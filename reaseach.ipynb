{
 "cells": [
  {
   "cell_type": "markdown",
   "id": "965d08a8",
   "metadata": {},
   "source": [
    "#### Import required libraries"
   ]
  },
  {
   "cell_type": "code",
   "execution_count": null,
   "id": "9b4de995",
   "metadata": {},
   "outputs": [],
   "source": [
    "import networkx as nx\n",
    "import numpy as np\n",
    "import random\n",
    "import itertools\n",
    "import matplotlib.pyplot as plt\n",
    "from time import sleep\n",
    "from tqdm import tqdm\n",
    "import operator"
   ]
  },
  {
   "cell_type": "markdown",
   "id": "133de51a",
   "metadata": {},
   "source": [
    "#### Create Graph"
   ]
  },
  {
   "cell_type": "code",
   "execution_count": null,
   "id": "c616204f",
   "metadata": {},
   "outputs": [],
   "source": [
    "with open(r'datasets\\answers to questions(21days).csv', 'r') as fp:\n",
    "    user_u, user_v, time_t = zip(*[line.rstrip().split(',') for line in fp])\n",
    "graph = nx.Graph()\n"
   ]
  },
  {
   "cell_type": "markdown",
   "id": "af9dfef6",
   "metadata": {},
   "source": [
    "#### Draw graph"
   ]
  },
  {
   "cell_type": "markdown",
   "id": "a391060a",
   "metadata": {},
   "source": [
    " using fruchterman reingold layout"
   ]
  },
  {
   "cell_type": "code",
   "execution_count": null,
   "id": "8094bebe",
   "metadata": {},
   "outputs": [],
   "source": [
    "graph.add_edges_from(zip(user_u,user_v))\n",
    "# The following nodes should be removed because in the picture of graph the are too far and it reduces focus on the main part of the graph\n",
    "graph.remove_node('460')\n",
    "graph.remove_node('704')\n",
    "graph.remove_node('663')\n",
    "graph.remove_node('76')\n",
    "pos = nx.fruchterman_reingold_layout(graph, iterations=75, k=1, threshold = 0.00001, seed=1)\n",
    "# Draw graph\n",
    "plt.figure(figsize=(10,10))\n",
    "nx.draw_networkx(graph, pos, with_labels=False, node_shape='.')\n",
    "plt.savefig(\"General graph.png\", dpi=1000)"
   ]
  },
  {
   "cell_type": "markdown",
   "id": "48543a96",
   "metadata": {},
   "source": [
    "using force atlas 2"
   ]
  },
  {
   "cell_type": "code",
   "execution_count": null,
   "id": "5f2a8c33",
   "metadata": {},
   "outputs": [],
   "source": [
    "import matplotlib.pyplot as plt\n",
    "import networkx\n",
    "import random\n",
    "import forceatlas2\n",
    "pos = { i : (random.random(), random.random()) for i in graph.nodes()} \n",
    "l = forceatlas2.forceatlas2_networkx_layout(graph, pos, niter=500) \n",
    "plt.figure(figsize=(15,15))\n",
    "networkx.draw_networkx(graph, l, with_labels=False, node_shape='.')\n",
    "plt.savefig(\"forceatlas2 graph.png\", dpi=1000)"
   ]
  },
  {
   "cell_type": "markdown",
   "id": "23d95ff3",
   "metadata": {},
   "source": [
    "#### John - degree_distribution"
   ]
  },
  {
   "cell_type": "markdown",
   "id": "779c39d7",
   "metadata": {},
   "source": [
    "Find John (The maximum number of answers to questions around the network)"
   ]
  },
  {
   "cell_type": "code",
   "execution_count": null,
   "id": "4821fae8",
   "metadata": {},
   "outputs": [],
   "source": [
    "degree_distribution = dict(graph.degree)\n",
    "John_id = max(degree_distribution, key=degree_distribution.get)\n",
    "John_degree = degree_distribution[John_id]\n",
    "print(f'John has answered to {John_degree} number of questions, which it the highest number of questions all over the network.')\n",
    "# Color the edges of John\n",
    "John_edges = graph.edges([John_id])\n",
    "colors = ['r' if John_edges.__contains__(edge) else 'y' for edge in graph.edges()]\n",
    "plt.figure(figsize=(15,15))\n",
    "# Draw using fruchterman_reingold_layout\n",
    "pos = nx.fruchterman_reingold_layout(graph, iterations=75, k=1, threshold = 0.00001, seed=1)\n",
    "nx.draw_networkx(graph, pos, with_labels=False, node_shape='.', edge_color=colors)\n",
    "plt.savefig(\"John connections.png\", dpi=1000)\n",
    "# Draw using forceatlas2_networkx_layout\n",
    "pos = { i : (random.random(), random.random()) for i in graph.nodes()} \n",
    "l = forceatlas2.forceatlas2_networkx_layout(graph, pos, niter=500) \n",
    "nx.draw_networkx(graph, l, with_labels=False, node_shape='.', edge_color=colors)\n",
    "plt.savefig(\"John connections_forceatlas2.png\", dpi=1000)"
   ]
  },
  {
   "cell_type": "markdown",
   "id": "acc83761",
   "metadata": {},
   "source": [
    "Show that John answered to a new user every time"
   ]
  },
  {
   "cell_type": "code",
   "execution_count": null,
   "metadata": {},
   "outputs": [],
   "source": [
    "John_answered_to_users = set()\n",
    "for first_id, second_id in graph.edges:\n",
    "    if first_id == str(John_id):\n",
    "        John_answered_to_users.add(second_id)\n",
    "print(f'The number of unique users John has answered to is {John_answered_to_users.__len__()}')"
   ]
  },
  {
   "cell_type": "markdown",
   "id": "67247476",
   "metadata": {},
   "source": [
    "#### Erick - betweenness_centrality"
   ]
  },
  {
   "cell_type": "markdown",
   "id": "ea199139",
   "metadata": {},
   "source": [
    "Find Erick (The maximum of betweenness centrality)"
   ]
  },
  {
   "cell_type": "code",
   "execution_count": null,
   "id": "ad28d3fb",
   "metadata": {},
   "outputs": [],
   "source": [
    "betweenness_centrality = nx.betweenness_centrality(graph)\n",
    "# sorted_betweenness_centrality = sorted(betweenness_centrality.items(), key=operator.itemgetter(1), reverse=True)\n",
    "Erick_id = max(betweenness_centrality, key=betweenness_centrality.get)\n",
    "Erick_centrality = betweenness_centrality[Erick_id]\n",
    "print(\"betweenness centrality of Erick is = \", Erick_centrality)\n",
    "# Color the the edges of Erick\n",
    "Erick_edges = graph.edges([Erick_id])\n",
    "colors = ['r' if Erick_edges.__contains__(edge) else 'y' for edge in graph.edges()]\n",
    "plt.figure(figsize=(15,15))\n",
    "# Draw using fruchterman_reingold_layout\n",
    "pos = nx.fruchterman_reingold_layout(graph, iterations=75, k=1, threshold = 0.00001, seed=1)\n",
    "nx.draw_networkx(graph, pos, with_labels=False, node_shape='.', edge_color=colors)\n",
    "plt.savefig(\"Erick connections.png\", dpi=500)\n",
    "# Draw using forceatlas2_networkx_layout\n",
    "pos = { i : (random.random(), random.random()) for i in graph.nodes()} \n",
    "l = forceatlas2.forceatlas2_networkx_layout(graph, pos, niter=500) \n",
    "nx.draw_networkx(graph, l, with_labels=False, node_shape='.', edge_color=colors)\n",
    "plt.savefig(\"Erick connections_forceatlas2.png\", dpi=1000)"
   ]
  },
  {
   "cell_type": "markdown",
   "id": "f8c727a9",
   "metadata": {},
   "source": [
    "#### Show John is Erick"
   ]
  },
  {
   "cell_type": "code",
   "execution_count": null,
   "id": "8cf40c32",
   "metadata": {},
   "outputs": [],
   "source": [
    "print(f'John\\'s ID = {John_id}\\nErick\\'s ID = {Erick_id}')"
   ]
  },
  {
   "cell_type": "markdown",
   "id": "0d26c255",
   "metadata": {},
   "source": [
    "#### Find 5 top most important users of the community"
   ]
  },
  {
   "cell_type": "code",
   "execution_count": null,
   "id": "0e18e387",
   "metadata": {},
   "outputs": [],
   "source": [
    "import heapq\n",
    "top_five_important_id = heapq.nlargest(5, betweenness_centrality, key=betweenness_centrality.get)\n",
    "questions_answered = 0\n",
    "top_five_edges = []\n",
    "for user in top_five_important_id:\n",
    "    questions_answered += graph.edges(user).__len__()\n",
    "    top_five_edges += graph.edges(user)\n",
    "# Color the the edges of top 5\n",
    "colors = ['r' if top_five_edges.__contains__(edge) else 'y' for edge in graph.edges()]\n",
    "plt.figure(figsize=(15,15))\n",
    "# Draw using fruchterman_reingold_layout\n",
    "nx.draw_networkx(graph, pos, with_labels=False, node_shape='.', edge_color=colors)\n",
    "plt.savefig(\"top five connections.png\", dpi=1000)\n",
    "# Draw using forceatlas2_networkx_layout\n",
    "pos = { i : (random.random(), random.random()) for i in graph.nodes()} \n",
    "l = forceatlas2.forceatlas2_networkx_layout(graph, pos, niter=500) \n",
    "nx.draw_networkx(graph, l, with_labels=False, node_shape='.', edge_color=colors)\n",
    "plt.savefig(\"top five connections_forceatlas2.png\", dpi=1000)"
   ]
  },
  {
   "cell_type": "markdown",
   "id": "39be1ac3",
   "metadata": {},
   "source": [
    "#### Jack - Knowledge broadness"
   ]
  },
  {
   "cell_type": "markdown",
   "id": "50b6e2b9",
   "metadata": {},
   "source": [
    "Use closeness centrality"
   ]
  },
  {
   "cell_type": "code",
   "execution_count": null,
   "id": "c5971efa",
   "metadata": {},
   "outputs": [],
   "source": [
    "closeness_centralities = nx.closeness_centrality(graph)\n",
    "# sorted_closeness_centralities = sorted(closeness_centralities.items(), key=operator.itemgetter(1), reverse=True)\n",
    "Jack_id = max(closeness_centralities, key=closeness_centralities.get)\n",
    "Jack_centrality = closeness_centralities[Jack_id]\n",
    "print(\"Closeness centrality of Jack is = \", Jack_centrality)\n",
    "# Color the edges of Jack\n",
    "pos = { i : (random.random(), random.random()) for i in graph.nodes()} \n",
    "l = forceatlas2.forceatlas2_networkx_layout(graph, pos, niter=500) \n",
    "Jack_edges = graph.edges([Jack_id])\n",
    "colors = ['r' if Jack_edges.__contains__(edge) else 'y' for edge in graph.edges()]\n",
    "plt.figure(figsize=(15,15))\n",
    "nx.draw_networkx(graph, l, with_labels=False, node_shape='.', edge_color=colors)\n",
    "plt.savefig(\"Jack connections.png\", dpi=1000)"
   ]
  },
  {
   "cell_type": "markdown",
   "id": "f0cd5ece",
   "metadata": {},
   "source": [
    "#### Knowledge deepness"
   ]
  },
  {
   "cell_type": "code",
   "execution_count": null,
   "id": "58c3c44b",
   "metadata": {},
   "outputs": [],
   "source": [
    "# Generate the communities\n",
    "from networkx.algorithms import community\n",
    "communities_generator = community.girvan_newman(graph)\n",
    "top_level_communities = next(communities_generator)\n",
    "next_level_communities = next(communities_generator)\n",
    "sorted(map(sorted, next_level_communities))\n",
    "print(next_level_communities)"
   ]
  },
  {
   "cell_type": "code",
   "execution_count": null,
   "id": "98227b13",
   "metadata": {},
   "outputs": [],
   "source": [
    "# Color the nodes of each community\n",
    "# colors = ['r' if John_edges.__contains__(edge) else 'y' for edge in graph.edges()]\n",
    "colors = list()\n",
    "colors_list = ['y', 'b', 'r']\n",
    "for node in graph.nodes():\n",
    "    for community_index in range(next_level_communities.__len__()):\n",
    "        if node in next_level_communities[community_index]:\n",
    "            colors.append(colors_list[community_index])\n",
    "print(colors)\n",
    "plt.figure(figsize=(15,15))\n",
    "# Draw using fruchterman_reingold_layout\n",
    "pos = nx.fruchterman_reingold_layout(graph, iterations=75, k=1, threshold = 0.00001, seed=1)\n",
    "nx.draw_networkx(graph, pos, with_labels=False, node_shape='.', node_color=colors)\n",
    "plt.savefig(\"communities.png\", dpi=1000)\n",
    "# Draw using forceatlas2_networkx_layout\n",
    "pos = { i : (random.random(), random.random()) for i in graph.nodes()} \n",
    "l = forceatlas2.forceatlas2_networkx_layout(graph, pos, niter=500) \n",
    "nx.draw_networkx(graph, l, with_labels=False, node_shape='.', node_color=colors)\n",
    "plt.savefig(\"communities_forceatlas2_networkx_layout.png\", dpi=1000)"
   ]
  },
  {
   "cell_type": "code",
   "execution_count": null,
   "metadata": {},
   "outputs": [],
   "source": [
    "# Printing the output\n",
    "for community_ in next_level_communities:\n",
    "    deep_knowledged = [(graph.edges(x).__len__(), x) for x in community_]\n",
    "    print(\"Max knowledge in each community is user = \", max(deep_knowledged))"
   ]
  },
  {
   "cell_type": "markdown",
   "id": "bd599006",
   "metadata": {},
   "source": [
    "#### Eigenvector centrality - most valuable user"
   ]
  },
  {
   "cell_type": "code",
   "execution_count": null,
   "id": "053e28c3",
   "metadata": {},
   "outputs": [],
   "source": [
    "eigenvector_centrality = nx.eigenvector_centrality(graph)\n",
    "max_eigenvector_centrality_id = max(eigenvector_centrality, key=eigenvector_centrality.get)\n",
    "max_eigenvector_centrality = eigenvector_centrality[max_eigenvector_centrality_id]\n",
    "print(f\"The user {max_eigenvector_centrality_id} with eigenvector_centrality = {max_eigenvector_centrality} is the most valuable user in the community\")"
   ]
  },
  {
   "cell_type": "markdown",
   "id": "98a5246a",
   "metadata": {},
   "source": [
    "#### Check how the community has rised by time"
   ]
  },
  {
   "cell_type": "code",
   "execution_count": null,
   "id": "3334cd13",
   "metadata": {},
   "outputs": [],
   "source": [
    "# Check how often a question is answered\n",
    "time_intervals = list()\n",
    "for i in range(1, len(time_t)):\n",
    "    time_intervals.append(int(time_t[i]) - int(time_t[i - 1]))\n",
    "average_response = sum(time_intervals) / len(time_intervals)\n",
    "print(f\"Every {average_response / 60} minutes, an answer is submitted.\")\n",
    "\n",
    "# Check how often a new user submits an answer\n",
    "answered_users = list()\n",
    "answered_interval = list()\n",
    "for i in range(len(user_u)):\n",
    "    if user_u[i] not in answered_users:\n",
    "        answered_users.append(user_u[i])\n",
    "        answered_interval.append(time_t[i])\n",
    "interval_difference = [int(answered_interval[i]) - int(answered_interval[i - 1]) for i in range(1, len(answered_interval))]\n",
    "average_new_user = sum(interval_difference) / len(interval_difference)\n",
    "print(f\"Every {int(average_new_user) / 3600} hour, a new user submits an answer.\")"
   ]
  },
  {
   "cell_type": "markdown",
   "id": "c67452ba",
   "metadata": {},
   "source": [
    "how much time did it take to become the most valuable user in the community"
   ]
  },
  {
   "cell_type": "code",
   "execution_count": null,
   "id": "a98ead4e",
   "metadata": {},
   "outputs": [],
   "source": [
    "import networkx as nx\n",
    "for i in range(1, int(len(user_u) / 35)):\n",
    "    # Extract first i elements of the list\n",
    "    part_user_u = user_u[:i*30]\n",
    "    part_user_v = user_v[:i*30]\n",
    "    part_graph = nx.Graph()\n",
    "    part_graph.add_edges_from(zip(part_user_u,part_user_v))\n",
    "    eigenvector_centrality = nx.eigenvector_centrality(part_graph)\n",
    "    # Get the 4th most valuable person\n",
    "    max_eigenvector_centrality_id = max(eigenvector_centrality, key=eigenvector_centrality.get)\n",
    "    part_graph.remove_node(max_eigenvector_centrality_id)\n",
    "    eigenvector_centrality = nx.eigenvector_centrality(part_graph)\n",
    "    \n",
    "    max_eigenvector_centrality_id = max(eigenvector_centrality, key=eigenvector_centrality.get)\n",
    "    part_graph.remove_node(max_eigenvector_centrality_id)\n",
    "    eigenvector_centrality = nx.eigenvector_centrality(part_graph)\n",
    "\n",
    "    max_eigenvector_centrality_id = max(eigenvector_centrality, key=eigenvector_centrality.get)\n",
    "    part_graph.remove_node(max_eigenvector_centrality_id)\n",
    "    eigenvector_centrality = nx.eigenvector_centrality(part_graph)\n",
    "\n",
    "    max_eigenvector_centrality_id = max(eigenvector_centrality, key=eigenvector_centrality.get)\n",
    "    max_eigenvector_centrality = eigenvector_centrality[max_eigenvector_centrality_id]\n",
    "    print(f\"user {max_eigenvector_centrality_id} is the 4th most valuable user\")"
   ]
  }
 ],
 "metadata": {
  "interpreter": {
   "hash": "28b4ff64e97151fb2b0622ed4c1bb551e8e48ae1cf1eb9b0caa4798bcb4ab17f"
  },
  "kernelspec": {
   "display_name": "Python 3.10.1 64-bit",
   "language": "python",
   "name": "python3"
  },
  "language_info": {
   "codemirror_mode": {
    "name": "ipython",
    "version": 3
   },
   "file_extension": ".py",
   "mimetype": "text/x-python",
   "name": "python",
   "nbconvert_exporter": "python",
   "pygments_lexer": "ipython3",
   "version": "3.10.1"
  }
 },
 "nbformat": 4,
 "nbformat_minor": 5
}
